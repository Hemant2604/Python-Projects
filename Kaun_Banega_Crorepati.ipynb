{
 "cells": [
  {
   "cell_type": "code",
   "execution_count": 167,
   "id": "e4d07104-cd1c-4447-b02c-66401b1cc8d5",
   "metadata": {},
   "outputs": [
    {
     "name": "stdout",
     "output_type": "stream",
     "text": [
      "1. Which god is also known as ‘Gauri Nandan’? \n",
      "1.Agni 2.Indra \n",
      "3.Hanuman 4.Ganesha\n"
     ]
    },
    {
     "name": "stdin",
     "output_type": "stream",
     "text": [
      "Please enter your option number =  4\n"
     ]
    },
    {
     "name": "stdout",
     "output_type": "stream",
     "text": [
      "you Won Rs=  1000\n",
      "\n",
      "\n",
      "Your entered Option is Correct, Let's see next Question.\n",
      "\n",
      "2. Which of the following countries is the world's largest producer of saffron? \n",
      "1.Spain 2.Iran \n",
      "3.India 4.Greece\n"
     ]
    },
    {
     "name": "stdin",
     "output_type": "stream",
     "text": [
      "Please enter your option number =  2\n"
     ]
    },
    {
     "name": "stdout",
     "output_type": "stream",
     "text": [
      "you Won Rs=  2000\n",
      "\n",
      "\n",
      "Your entered Option is Correct, Let's see next Question.\n",
      "\n",
      "3. What does not grow on tree according to a popular Hindi saying? \n",
      "1.Money 2.Flowers \n",
      "3.Leaves 4.Fruits\n"
     ]
    },
    {
     "name": "stdin",
     "output_type": "stream",
     "text": [
      "Please enter your option number =  1\n"
     ]
    },
    {
     "name": "stdout",
     "output_type": "stream",
     "text": [
      "you Won Rs=  3000\n",
      "\n",
      "\n",
      "Your entered Option is Correct, Let's see next Question.\n",
      "\n",
      "4. Which city is known as the Pink City of India? \n",
      "1.Banglore 2.Maysore \n",
      "3.Jaipur 4.Kochi\n"
     ]
    },
    {
     "name": "stdin",
     "output_type": "stream",
     "text": [
      "Please enter your option number =  3\n"
     ]
    },
    {
     "name": "stdout",
     "output_type": "stream",
     "text": [
      "you Won Rs=  5000\n",
      "\n",
      "\n",
      "Your entered Option is Correct, Let's see next Question.\n",
      "\n",
      "5. Who wrote India's National Anthem? \n",
      "1.Rabindranath Tagore 2.Lal Bahadur Shastri \n",
      "3.Chetan Bhagat 4.RK Narayan\n"
     ]
    },
    {
     "name": "stdin",
     "output_type": "stream",
     "text": [
      "Please enter your option number =  1\n"
     ]
    },
    {
     "name": "stdout",
     "output_type": "stream",
     "text": [
      "you Won Rs=  10000\n",
      "\n",
      "\n",
      "Your entered Option is Correct, Let's see next Question.\n",
      "\n",
      "You have Reached the CheckPoint of Rs= 10000\n",
      "\n",
      "Do you Want to leave the Game with Rs10000 or Play? Type 'y' for Yes and 'n' for No)\n"
     ]
    },
    {
     "name": "stdin",
     "output_type": "stream",
     "text": [
      " n\n"
     ]
    },
    {
     "name": "stdout",
     "output_type": "stream",
     "text": [
      "6. How many major religions are there in India? \n",
      "1.8 2.6 \n",
      "3.7 4.9\n"
     ]
    },
    {
     "name": "stdin",
     "output_type": "stream",
     "text": [
      "Please enter your option number =  2\n"
     ]
    },
    {
     "name": "stdout",
     "output_type": "stream",
     "text": [
      "you Won Rs=  20000\n",
      "\n",
      "\n",
      "Your entered Option is Correct, Let's see next Question.\n",
      "\n",
      "7. When is the National Hindi Diwas celebrated? \n",
      "1.13 September 2.14 September \u0003.14 July 4.15 August\n"
     ]
    },
    {
     "name": "stdin",
     "output_type": "stream",
     "text": [
      "Please enter your option number =  2\n"
     ]
    },
    {
     "name": "stdout",
     "output_type": "stream",
     "text": [
      "you Won Rs=  40000\n",
      "\n",
      "\n",
      "Your entered Option is Correct, Let's see next Question.\n",
      "\n",
      "8. Which country is the largest producer of coffee in the world? \n",
      "1.Brazil 2.Colombia \n",
      "3.Vietnam 4.Ethiopia\n"
     ]
    },
    {
     "name": "stdin",
     "output_type": "stream",
     "text": [
      "Please enter your option number =  1\n"
     ]
    },
    {
     "name": "stdout",
     "output_type": "stream",
     "text": [
      "you Won Rs=  80000\n",
      "\n",
      "\n",
      "Your entered Option is Correct, Let's see next Question.\n",
      "\n",
      "9. Where is India Gate located? \n",
      "1.Agra 2.Punjab \n",
      "3.Mumbai 4.New Delhi\n"
     ]
    },
    {
     "name": "stdin",
     "output_type": "stream",
     "text": [
      "Please enter your option number =  4\n"
     ]
    },
    {
     "name": "stdout",
     "output_type": "stream",
     "text": [
      "you Won Rs=  160000\n",
      "\n",
      "\n",
      "Your entered Option is Correct, Let's see next Question.\n",
      "\n",
      "10. Who wrote Vande Mataram? \n",
      "1.Sarat Chandra Chattopadhyay 2.Rabindranath Tagore \n",
      "3.Bankim Chandra Chatterjee 4.Ishwar Chandra Vidyasagar\n"
     ]
    },
    {
     "name": "stdin",
     "output_type": "stream",
     "text": [
      "Please enter your option number =  3\n"
     ]
    },
    {
     "name": "stdout",
     "output_type": "stream",
     "text": [
      "you Won Rs=  320000\n",
      "\n",
      "\n",
      "Your entered Option is Correct, Let's see next Question.\n",
      "\n",
      "You have Reached the CheckPoint of Rs= 320000\n",
      "\n",
      "Do you Want to leave the Game with Rs320000 or Play? Type 'y' for Yes and 'n' for No)\n"
     ]
    },
    {
     "name": "stdin",
     "output_type": "stream",
     "text": [
      " n\n"
     ]
    },
    {
     "name": "stdout",
     "output_type": "stream",
     "text": [
      "11. Which one of the following places is famous for the Great Vishnu Temple? \n",
      "1.Bordubar, Indonesia 2.Bamiyan, Afghanistan \n",
      "3.Panja Sahib, Pakistan 4.Ankorvat, Cambodia\n"
     ]
    },
    {
     "name": "stdin",
     "output_type": "stream",
     "text": [
      "Please enter your option number =  4\n"
     ]
    },
    {
     "name": "stdout",
     "output_type": "stream",
     "text": [
      "you Won Rs=  640000\n",
      "\n",
      "\n",
      "Your entered Option is Correct, Let's see next Question.\n",
      "\n",
      "12. Where is the largest Buddhist Monastery in India located? \n",
      "1.Sarnath, Uttar Pradesh 2.Tawang, Arunachal Pradesh \n",
      "3.Dharmashala, Himachal Pradesh 4.Gangtok, Sikkim\n"
     ]
    },
    {
     "name": "stdin",
     "output_type": "stream",
     "text": [
      "Please enter your option number =  2\n"
     ]
    },
    {
     "name": "stdout",
     "output_type": "stream",
     "text": [
      "you Won Rs=  1250000\n",
      "\n",
      "\n",
      "Your entered Option is Correct, Let's see next Question.\n",
      "\n",
      "13. Which Indian monument was originally built as a victory tower to commemorate the defeat of the Khan of Khambhat? \n",
      "1.Qutub Minar 2.India Gate \n",
      "3.Charminar 4.Vijay Stambha\n"
     ]
    },
    {
     "name": "stdin",
     "output_type": "stream",
     "text": [
      "Please enter your option number =  4\n"
     ]
    },
    {
     "name": "stdout",
     "output_type": "stream",
     "text": [
      "you Won Rs=  2500000\n",
      "\n",
      "\n",
      "Your entered Option is Correct, Let's see next Question.\n",
      "\n",
      "14. Which ancient civilization is credited with the invention of the first known writing system, cuneiform? \n",
      "1.Egyptians 2.Greeks \n",
      "3.Sumerians 4.Romans\n"
     ]
    },
    {
     "name": "stdin",
     "output_type": "stream",
     "text": [
      "Please enter your option number =  3\n"
     ]
    },
    {
     "name": "stdout",
     "output_type": "stream",
     "text": [
      "you Won Rs=  5000000\n",
      "\n",
      "\n",
      "Your entered Option is Correct, Let's see next Question.\n",
      "\n",
      "15. Who is the founder of the political party Dravida Munnetra Kazhagam (DMK)? \n",
      "1.C.N. Annadurai 2.M. Karunanidhi \n",
      "3.M.G. Ramachandran 4.Jayalalitha\n"
     ]
    },
    {
     "name": "stdin",
     "output_type": "stream",
     "text": [
      "Please enter your option number =  1\n"
     ]
    },
    {
     "name": "stdout",
     "output_type": "stream",
     "text": [
      "you Won Rs=  7500000\n",
      "\n",
      "\n",
      "Your entered Option is Correct, Let's see next Question.\n",
      "\n",
      "You have Reached the CheckPoint of Rs= 7500000\n",
      "\n",
      "Do you Want to leave the Game with Rs7500000 or Play? Type 'y' for Yes and 'n' for No)\n"
     ]
    },
    {
     "name": "stdin",
     "output_type": "stream",
     "text": [
      " n\n"
     ]
    },
    {
     "name": "stdout",
     "output_type": "stream",
     "text": [
      "16. Who was the first Indian woman to win a medal in the Olympics? \n",
      "1.P.T. Usha 2.Kunjarani Devi \n",
      "3.Bachendri Pal 4.Karnam Maleshwari\n"
     ]
    },
    {
     "name": "stdin",
     "output_type": "stream",
     "text": [
      "Please enter your option number =  4\n"
     ]
    },
    {
     "name": "stdout",
     "output_type": "stream",
     "text": [
      "you Won Rs=  1 Crore\n",
      "\n",
      "\n",
      "Your entered Option is Correct, Let's see next Question.\n",
      "\n",
      "Congratulations! You have answered all questions and won Rs 1 Crore.\n"
     ]
    }
   ],
   "source": [
    "Questions = [[\"1. Which god is also known as ‘Gauri Nandan’?\",\"\\n1.Agni\",\"2.Indra\",\"\\n3.Hanuman\",\"4.Ganesha\"],\n",
    "             [\"2. Which of the following countries is the world's largest producer of saffron?\",\"\\n1.Spain\", \"2.Iran\", \"\\n3.India\", \"4.Greece\"],\n",
    "             [\"3. What does not grow on tree according to a popular Hindi saying?\",\"\\n1.Money\",\"2.Flowers\",\"\\n3.Leaves\",\"4.Fruits\"],\n",
    "             [\"4. Which city is known as the Pink City of India?\",\"\\n1.Banglore\",\"2.Maysore\",\"\\n3.Jaipur\",\"4.Kochi\"],\n",
    "             [\"5. Who wrote India's National Anthem?\",\"\\n1.Rabindranath Tagore\",\"2.Lal Bahadur Shastri\",\"\\n3.Chetan Bhagat\",\"4.RK Narayan\"],\n",
    "             [\"6. How many major religions are there in India?\",\"\\n1.8\",\"2.6\",\"\\n3.7\",\"4.9\"],\n",
    "             [\"7. When is the National Hindi Diwas celebrated?\", \"\\n1.13 September\",\"2.14 September\",\"\\n3.14 July\",\"4.15 August\"],\n",
    "             [\"8. Which country is the largest producer of coffee in the world?\",\"\\n1.Brazil\",\"2.Colombia\",\"\\n3.Vietnam\",\"4.Ethiopia\"],\n",
    "             [\"9. Where is India Gate located?\",\"\\n1.Agra\",\"2.Punjab\",\"\\n3.Mumbai\",\"4.New Delhi\"],\n",
    "             [\"10. Who wrote Vande Mataram?\",\"\\n1.Sarat Chandra Chattopadhyay\",\"2.Rabindranath Tagore\",\"\\n3.Bankim Chandra Chatterjee\",\"4.Ishwar Chandra Vidyasagar\"],\n",
    "             [\"11. Which one of the following places is famous for the Great Vishnu Temple?\",\"\\n1.Bordubar, Indonesia\",\"2.Bamiyan, Afghanistan\",\"\\n3.Panja Sahib, Pakistan\",\"4.Ankorvat, Cambodia\"],\n",
    "             [\"12. Where is the largest Buddhist Monastery in India located?\",\"\\n1.Sarnath, Uttar Pradesh\",\"2.Tawang, Arunachal Pradesh\",\"\\n3.Dharmashala, Himachal Pradesh\",\"4.Gangtok, Sikkim\"],\n",
    "             [\"13. Which Indian monument was originally built as a victory tower to commemorate the defeat of the Khan of Khambhat?\",\"\\n1.Qutub Minar\",\"2.India Gate\",\"\\n3.Charminar\",\"4.Vijay Stambha\"],\n",
    "             [\"14. Which ancient civilization is credited with the invention of the first known writing system, cuneiform?\",\"\\n1.Egyptians\",\"2.Greeks\",\"\\n3.Sumerians\",\"4.Romans\"],\n",
    "             [\"15. Who is the founder of the political party Dravida Munnetra Kazhagam (DMK)?\",\"\\n1.C.N. Annadurai\",\"2.M. Karunanidhi\",\"\\n3.M.G. Ramachandran\",\"4.Jayalalitha\"],\n",
    "             [\"16. Who was the first Indian woman to win a medal in the Olympics?\",\"\\n1.P.T. Usha\",\"2.Kunjarani Devi\",\"\\n3.Bachendri Pal\",\"4.Karnam Maleshwari\"]\n",
    "            ]\n",
    "Money = [1000,2000,3000,5000,10000,20000,40000,80000,160000,320000,640000,1250000,2500000,5000000,7500000,\"1 Crore\"]\n",
    "\n",
    "Answers= [\"4.Ganesha\",\"2.Iran\",\"\\n1.Money\",\"\\n3.Jaipur\",\"\\n1.Rabindranath Tagore\",\"2.6\",\"2.14 September\",\"\\n1.Brazil\",\"4.New Delhi\",\"\\n3.Bankim Chandra Chatterjee\",\"4.Ankorvat, Cambodia\",\"2.Tawang, Arunachal Pradesh\",\"4.Vijay Stambha\",\"\\n3.Sumerians\",\"\\n1.C.N. Annadurai\",\"4.Karnam Maleshwari\"]\n",
    "\n",
    "def Check_Point(a,Money):\n",
    "    if Money[a] == 10000 or Money[a] == 320000 or Money[a] == 7500000:\n",
    "        print(f\"You have Reached the CheckPoint of Rs= {Money[a]}\\n\")\n",
    "        print(f\"Do you Want to leave the Game with Rs{Money[a]} or Play? Type 'y' for Yes and 'n' for No)\")\n",
    "        b = input().lower()\n",
    "        if b == \"y\":\n",
    "            print(f\"Congratulations! You are leaving the game with Rs {Money[a]}.\\n\")\n",
    "            return True\n",
    "    return False\n",
    "            \n",
    "def Kon_Banega_Crorepati(Questions,Answers):\n",
    "    a = 0\n",
    "    for i in Questions:\n",
    "        print(i[0], i[1], i[2], i[3], i[4])\n",
    "        while True:\n",
    "            try:\n",
    "                User_Choice = int(input(\"Please enter your option number = \"))\n",
    "                if 1 <= User_Choice <= 4:\n",
    "                    break\n",
    "                else:\n",
    "                    print(\"Invalid option. Please enter a number between 1 and 4.\")\n",
    "            except ValueError:\n",
    "                print(\"Invalid input. Please enter a valid number between 1 and 4.\")\n",
    "        \n",
    "        if i[User_Choice] in Answers:\n",
    "            print(\"you Won Rs= \",Money[a])\n",
    "            print(\"\\n\\nYour entered Option is Correct, Let's see next Question.\\n\")\n",
    "            \n",
    "            if Check_Point(a, Money):\n",
    "                return f\"Thank you for playing! You won Rs {Money[a]}.\"\n",
    "        else:\n",
    "            return \"Your entered Option is Wrong, You lost the game.\"     \n",
    "        a = a+1\n",
    "    \n",
    "    return f\"Congratulations! You have answered all questions and won Rs {Money[-1]}.\"  \n",
    "Crorepati = Kon_Banega_Crorepati(Questions,Answers)\n",
    "print(Crorepati)"
   ]
  },
  {
   "cell_type": "code",
   "execution_count": null,
   "id": "3b92a61a-9b14-45b5-b06f-985aca40ca3f",
   "metadata": {},
   "outputs": [],
   "source": []
  }
 ],
 "metadata": {
  "kernelspec": {
   "display_name": "Python 3 (ipykernel)",
   "language": "python",
   "name": "python3"
  },
  "language_info": {
   "codemirror_mode": {
    "name": "ipython",
    "version": 3
   },
   "file_extension": ".py",
   "mimetype": "text/x-python",
   "name": "python",
   "nbconvert_exporter": "python",
   "pygments_lexer": "ipython3",
   "version": "3.11.5"
  }
 },
 "nbformat": 4,
 "nbformat_minor": 5
}
